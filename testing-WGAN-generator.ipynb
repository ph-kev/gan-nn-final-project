{
 "cells": [
  {
   "cell_type": "code",
   "execution_count": 2,
   "metadata": {},
   "outputs": [],
   "source": [
    "import numpy as np \n",
    "import torch\n",
    "import torchvision\n",
    "from torchvision import transforms\n",
    "import torch.nn as nn\n",
    "import matplotlib.pyplot as plt "
   ]
  },
  {
   "cell_type": "code",
   "execution_count": 55,
   "metadata": {},
   "outputs": [],
   "source": [
    "class Generator(nn.Module):\n",
    "    def __init__(self, input_size, n_filters):\n",
    "        super().__init__()\n",
    "\n",
    "        self.network = nn.Sequential(\n",
    "            nn.ConvTranspose2d(input_size, n_filters*4, 4, 1, 0, bias=False),\n",
    "            nn.BatchNorm2d(n_filters*4),\n",
    "            nn.LeakyReLU(0.2),\n",
    "            nn.ConvTranspose2d(n_filters*4, n_filters*2, 3, 2, 1, bias=False),\n",
    "            nn.BatchNorm2d(n_filters*2),\n",
    "            nn.LeakyReLU(0.2),\n",
    "            nn.ConvTranspose2d(n_filters*2, n_filters, 4, 2, 1, bias=False),\n",
    "            nn.BatchNorm2d(n_filters),\n",
    "            nn.LeakyReLU(0.2),\n",
    "            nn.ConvTranspose2d(n_filters, 1, 4, 2, 1, bias=False),\n",
    "            nn.Tanh()\n",
    "        )\n",
    "\n",
    "    def forward(self, x):\n",
    "        'Forward pass'\n",
    "        output = self.network(x)\n",
    "        return output"
   ]
  },
  {
   "cell_type": "code",
   "execution_count": 56,
   "metadata": {},
   "outputs": [],
   "source": [
    "def create_noise(batch_size, z_size):\n",
    "    input_z = torch.normal(0.0, 1.0, (batch_size, z_size, 1, 1))\n",
    "    return input_z"
   ]
  },
  {
   "cell_type": "code",
   "execution_count": 57,
   "metadata": {},
   "outputs": [],
   "source": [
    "n_filters = 32 \n",
    "\n",
    "generator = Generator(100, n_filters)\n",
    "generator.load_state_dict(torch.load(\"WGAN_params/gen-params-500\"))\n",
    "\n",
    "noise = create_noise(1, 100)\n",
    "image = generator(noise).squeeze().detach().numpy()"
   ]
  },
  {
   "cell_type": "code",
   "execution_count": 58,
   "metadata": {},
   "outputs": [
    {
     "name": "stdout",
     "output_type": "stream",
     "text": [
      "tensor(-0.5439)\n"
     ]
    },
    {
     "data": {
      "text/plain": [
       "<matplotlib.image.AxesImage at 0x7f07a02a4590>"
      ]
     },
     "execution_count": 58,
     "metadata": {},
     "output_type": "execute_result"
    },
    {
     "data": {
      "image/png": "[encoded data removed]",
      "text/plain": [
       "<Figure size 640x480 with 1 Axes>"
      ]
     },
     "metadata": {},
     "output_type": "display_data"
    }
   ],
   "source": [
    "print(noise[0][0][0][0])\n",
    "plt.imshow(image, cmap='Greys')"
   ]
  },
  {
   "cell_type": "code",
   "execution_count": null,
   "metadata": {},
   "outputs": [],
   "source": [
    "class Discriminator(nn.Module):\n",
    "    def __init__(self, n_filters):\n",
    "        super().__init__()\n",
    "\n",
    "        self.network = nn.Sequential(\n",
    "            nn.Conv2d(1, n_filters // 4, 4, 2, 1, bias=False),\n",
    "            nn.LeakyReLU(0.2),\n",
    "            nn.Conv2d(n_filters // 4, n_filters // 2, 4, 2, 1, bias=False),\n",
    "            nn.BatchNorm2d(n_filters // 2),\n",
    "            nn.LeakyReLU(0.2),\n",
    "            nn.Conv2d(n_filters // 2, n_filters, 3, 2, 0, bias=False),\n",
    "            nn.BatchNorm2d(n_filters),\n",
    "            nn.LeakyReLU(0.2),\n",
    "            nn.Conv2d(n_filters, 1, 3, 1, 0, bias=False),\n",
    "            nn.Sigmoid()\n",
    "        )\n",
    "\n",
    "    def forward(self, x):\n",
    "        'Forward pass'\n",
    "        output = self.network(x)\n",
    "        return output.view(-1, 1).squeeze(0) "
   ]
  }
 ],
 "metadata": {
  "kernelspec": {
   "display_name": ".venv",
   "language": "python",
   "name": "python3"
  },
  "language_info": {
   "codemirror_mode": {
    "name": "ipython",
    "version": 3
   },
   "file_extension": ".py",
   "mimetype": "text/x-python",
   "name": "python",
   "nbconvert_exporter": "python",
   "pygments_lexer": "ipython3",
   "version": "3.11.8"
  }
 },
 "nbformat": 4,
 "nbformat_minor": 2
}
