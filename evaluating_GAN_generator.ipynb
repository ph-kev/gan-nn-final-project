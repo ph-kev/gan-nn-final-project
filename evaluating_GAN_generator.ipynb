{
  "cells": [
    {
      "cell_type": "code",
      "execution_count": 74,
      "metadata": {
        "id": "LyRZXR9SYC_L"
      },
      "outputs": [],
      "source": [
        "import os\n",
        "import numpy as np\n",
        "import torch\n",
        "import torchvision\n",
        "from torchvision import transforms\n",
        "import torch.nn as nn\n",
        "import matplotlib.pyplot as plt"
      ]
    },
    {
      "cell_type": "code",
      "execution_count": 81,
      "metadata": {
        "colab": {
          "base_uri": "https://localhost:8080/"
        },
        "id": "AEyQhp7TORcx",
        "outputId": "84f7070f-0278-421d-9c73-3f1727475b16"
      },
      "outputs": [
        {
          "name": "stdout",
          "output_type": "stream",
          "text": [
            "Using 'cpu' device.\n"
          ]
        },
        {
          "data": {
            "text/plain": [
              "<All keys matched successfully>"
            ]
          },
          "execution_count": 81,
          "metadata": {},
          "output_type": "execute_result"
        }
      ],
      "source": [
        "class Generator(nn.Module):\n",
        "    def __init__(self, input_size, n_filters):\n",
        "        super().__init__()\n",
        "\n",
        "        self.network = nn.Sequential(\n",
        "            nn.ConvTranspose2d(input_size, n_filters, 3, 1, 0, bias=False),\n",
        "            nn.BatchNorm2d(n_filters),\n",
        "            nn.LeakyReLU(0.2),\n",
        "            nn.ConvTranspose2d(n_filters, n_filters // 2, 3, 2, 0, bias=False),\n",
        "            nn.BatchNorm2d(n_filters // 2),\n",
        "            nn.LeakyReLU(0.2),\n",
        "            nn.ConvTranspose2d(n_filters // 2, n_filters // 4, 4, 2, 1, bias=False),\n",
        "            nn.BatchNorm2d(n_filters // 4),\n",
        "            nn.LeakyReLU(0.2),\n",
        "            nn.ConvTranspose2d(n_filters // 4, 1, 4, 2, 1, bias=False),\n",
        "            nn.Tanh()\n",
        "        )\n",
        "\n",
        "\n",
        "    def forward(self, x):\n",
        "        'Forward pass'\n",
        "        output = self.network(x)\n",
        "        return output\n",
        "\n",
        "# Generate noise from normal distribution\n",
        "def create_noise(batch_size, z_size):\n",
        "    input_z = torch.normal(0.0, 1.0, (batch_size, z_size, 1, 1))\n",
        "    return input_z\n",
        "\n",
        "\n",
        "torch.manual_seed(1)\n",
        "\n",
        "# Download and load the training set\n",
        "transform = transforms.Compose([transforms.ToTensor(), transforms.Normalize(mean=(0.5), std=(0.5))])\n",
        "trainset = torchvision.datasets.MNIST(root=\"data\", download=True, transform = transform)\n",
        "\n",
        "# Create a DataLoader to efficiently load the data in Instancees\n",
        "batch_size = 64\n",
        "data_loader = torch.utils.data.DataLoader(trainset, batch_size=batch_size, shuffle=True, drop_last = True)\n",
        "\n",
        "device = \"cuda\" if torch.cuda.is_available() else \"cpu\"\n",
        "print(f\"Using '{device}' device.\")\n",
        "\n",
        "gen_input_size = 100\n",
        "image_size = (28, 28)\n",
        "n_filters_gen = 128\n",
        "n_filters_dis = 128\n",
        "\n",
        "generator = Generator(100, n_filters_gen)\n",
        "generator.load_state_dict(torch.load(\"/content/gen-params-100\", map_location=torch.device('cpu')))\n"
      ]
    },
    {
      "cell_type": "code",
      "execution_count": 84,
      "metadata": {
        "colab": {
          "base_uri": "https://localhost:8080/",
          "height": 447
        },
        "id": "2naL9Nm6Pu0d",
        "outputId": "96c9e094-5db6-4c69-c104-718ca9683032"
      },
      "outputs": [
        {
          "data": {
            "text/plain": [
              "<matplotlib.image.AxesImage at 0x78868bcf9f60>"
            ]
          },
          "execution_count": 84,
          "metadata": {},
          "output_type": "execute_result"
        },
        {
          "data": {
            "image/png": "[encoded data removed]",
            "text/plain": [
              "<Figure size 640x480 with 1 Axes>"
            ]
          },
          "metadata": {},
          "output_type": "display_data"
        }
      ],
      "source": [
        "noise = create_noise(1, 100)\n",
        "image = generator(noise).squeeze().detach().numpy()\n",
        "image = (image * 0.5) + 0.5\n",
        "\n",
        "# print(noise[0][0][0][0].item())\n",
        "plt.imshow(image)"
      ]
    },
    {
      "cell_type": "code",
      "execution_count": 85,
      "metadata": {
        "id": "MKfcupLyQBpK"
      },
      "outputs": [],
      "source": [
        "# Download and load the training set\n",
        "transform = transforms.Compose([transforms.ToTensor(), transforms.Normalize(mean=(0.5), std=(0.5))]) #changed from og code transform = transforms.Compose([transforms.ToTensor()])\n",
        "testset = torchvision.datasets.MNIST(root=\"data\", train=False, download=True, transform=transform)\n",
        "\n",
        "# Create a DataLoader to efficiently load the data in Instancees\n",
        "test_loader = torch.utils.data.DataLoader(testset, batch_size=1, shuffle=True, drop_last = True)"
      ]
    },
    {
      "cell_type": "code",
      "execution_count": 87,
      "metadata": {
        "colab": {
          "base_uri": "https://localhost:8080/",
          "height": 447
        },
        "id": "DhY7mcsiYC_R",
        "outputId": "89687c63-422c-4a50-fdc1-13a242e4659b"
      },
      "outputs": [
        {
          "data": {
            "text/plain": [
              "<matplotlib.image.AxesImage at 0x78868ea0cfd0>"
            ]
          },
          "execution_count": 87,
          "metadata": {},
          "output_type": "execute_result"
        },
        {
          "data": {
            "image/png": "[encoded data removed]",
            "text/plain": [
              "<Figure size 640x480 with 1 Axes>"
            ]
          },
          "metadata": {},
          "output_type": "display_data"
        }
      ],
      "source": [
        "image_real, label = next(iter(data_loader))\n",
        "image_real = image_real.squeeze().detach().numpy()\n",
        "plt.imshow(image_real[0])"
      ]
    },
    {
      "cell_type": "code",
      "execution_count": null,
      "metadata": {
        "id": "RHdQSmYlQW0m"
      },
      "outputs": [],
      "source": [
        "# @title Default title text\n",
        "from pytorch_fid import fid_score\n",
        "from pytorch_fid.fid_score import calculate_fid_given_paths\n",
        "\n",
        "#Makeing folders for real and fake images\n",
        "current_dir = os.getcwd()\n",
        "real_images_folder_name = 'real_images'\n",
        "fake_images_folder_name = 'fake_images'\n",
        "\n",
        "real_images_folder = os.path.join(current_dir, real_images_folder_name)\n",
        "fake_images_folder = os.path.join(current_dir, fake_images_folder_name)\n",
        "\n",
        "# Save real images\n",
        "os.makedirs(real_images_folder, exist_ok=True)\n",
        "os.makedirs(fake_images_folder, exist_ok=True)\n",
        "\n",
        "#Saving 100 real images\n",
        "num_samples1 = 99\n",
        "for i in range(num_samples1):\n",
        "  image_real, _ = next(iter(test_loader))  # Get a real image from DataLoader\n",
        "  image_real = image_real.squeeze().detach().numpy()\n",
        "  plt.imsave(os.path.join(real_images_folder, f'real_image_{i}.png'), image_real)\n",
        "\n",
        "# Generate fake images using the generator\n",
        "num_samples2 = 100\n",
        "generator.eval()  # Setting generator to evaluation mode\n",
        "for i in range(num_samples2): #using same num samples as above\n",
        "    noise = create_noise(1, 100)\n",
        "    fake_image = generator(noise).squeeze().detach().numpy()\n",
        "    plt.imsave(os.path.join(fake_images_folder, f'fake_image_{i}.png'), fake_image)\n"
      ]
    },
    {
      "cell_type": "code",
      "execution_count": null,
      "metadata": {
        "id": "tbbbmtpkRYR4"
      },
      "outputs": [],
      "source": [
        "fid = fid_score.calculate_fid_given_paths(['/content/fake_images', '/content/real_images'], batch_size=1, device='cpu', dims=64 )\n",
        "\n",
        "print(f\"FID Score: {fid}\")"
      ]
    },
    {
      "cell_type": "code",
      "execution_count": null,
      "metadata": {
        "id": "au_MFtAfTCVG"
      },
      "outputs": [],
      "source": [
        "from skimage.metrics import structural_similarity as ssim\n",
        "\n",
        "fake_images_folder = '/content/fake_images'\n",
        "real_images_folder = '/content/real_images'\n",
        "\n",
        "fake_image_files = [os.path.join(fake_images_folder, img) for img in os.listdir(fake_images_folder) if img.endswith('.png')]\n",
        "real_image_files = [os.path.join(real_images_folder, img) for img in os.listdir(real_images_folder) if img.endswith('.png')]\n",
        "\n",
        "\n",
        "# Calculate SSIM scores for all generated and real image pairs\n",
        "ssim_scores = []\n",
        "\n",
        "for fake_image_path, real_image_path in zip(fake_image_files, real_image_files):\n",
        "  #Load images using matplotlib to ensure consistent image reading\n",
        "  fake_image = plt.imread(fake_image_path)\n",
        "  real_image = plt.imread(real_image_path)\n",
        "  score = ssim(fake_image, real_image, multichannel=True)\n",
        "  ssim_scores.append(score)\n",
        "\n",
        "# Print SSIM scores\n",
        "#print(\"SSIM Scores for Generated Images:\")\n",
        "#for i, score in enumerate(ssim_scores, 1):\n",
        "    #print(f\"Generated Image {i}: {score}\")"
      ]
    },
    {
      "cell_type": "code",
      "execution_count": null,
      "metadata": {
        "id": "-8flGWY2UEfV"
      },
      "outputs": [],
      "source": [
        "# Calculate SSIM scores for each pair of fake and real images\n",
        "if ssim_scores:  # Check if ssim_scores is not empty\n",
        "    # Calculate average SSIM score\n",
        "    avg_ssim_score = sum(ssim_scores) / len(ssim_scores)\n",
        "    print(\"Average SSIM Score:\", avg_ssim_score)\n",
        "\n",
        "    # Plot all SSIM scores\n",
        "    plt.figure(figsize=(12, 6))\n",
        "    plt.plot(ssim_scores, marker='o')\n",
        "    plt.xlabel('Image Pair')\n",
        "    plt.ylabel('SSIM Score')\n",
        "    plt.title('SSIM Scores for Generated Images')\n",
        "    plt.xticks(rotation=80, ha='right')\n",
        "    plt.grid(True)\n",
        "    plt.show()\n",
        "else:\n",
        "    print(\"No SSIM scores calculated. Ensure there are images in both real_images_folder and fake_images_folder.\")\n"
      ]
    }
  ],
  "metadata": {
    "accelerator": "GPU",
    "colab": {
      "gpuType": "T4",
      "provenance": []
    },
    "kernelspec": {
      "display_name": "Python 3",
      "name": "python3"
    },
    "language_info": {
      "codemirror_mode": {
        "name": "ipython",
        "version": 3
      },
      "file_extension": ".py",
      "mimetype": "text/x-python",
      "name": "python",
      "nbconvert_exporter": "python",
      "pygments_lexer": "ipython3",
      "version": "3.11.8"
    }
  },
  "nbformat": 4,
  "nbformat_minor": 0
}
